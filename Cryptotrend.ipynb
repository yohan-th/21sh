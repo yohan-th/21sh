{
  "nbformat": 4,
  "nbformat_minor": 0,
  "metadata": {
    "colab": {
      "name": "Cryptotrend.ipynb",
      "provenance": [],
      "collapsed_sections": [
        "tr9LIofyKYgk",
        "lXIXuR_wKbzP",
        "G9GhkHiEsBUf"
      ],
      "authorship_tag": "ABX9TyPtFclWeUHlF8yc7wogD84d",
      "include_colab_link": true
    },
    "kernelspec": {
      "name": "python3",
      "display_name": "Python 3"
    },
    "language_info": {
      "name": "python"
    }
  },
  "cells": [
    {
      "cell_type": "markdown",
      "metadata": {
        "id": "view-in-github",
        "colab_type": "text"
      },
      "source": [
        "<a href=\"https://colab.research.google.com/github/yohan-th/21sh/blob/master/Cryptotrend.ipynb\" target=\"_parent\"><img src=\"https://colab.research.google.com/assets/colab-badge.svg\" alt=\"Open In Colab\"/></a>"
      ]
    },
    {
      "cell_type": "code",
      "metadata": {
        "id": "I-jB5o4_YPVv",
        "colab": {
          "base_uri": "https://localhost:8080/"
        },
        "outputId": "9e007e73-b451-4f86-82e3-b6c0b6a34c40"
      },
      "source": [
        "!pip install pytrends cryptocompare"
      ],
      "execution_count": null,
      "outputs": [
        {
          "output_type": "stream",
          "text": [
            "Collecting pytrends\n",
            "  Downloading https://files.pythonhosted.org/packages/96/53/a4a74c33bfdbe1740183e00769377352072e64182913562daf9f5e4f1938/pytrends-4.7.3-py3-none-any.whl\n",
            "Collecting cryptocompare\n",
            "  Downloading https://files.pythonhosted.org/packages/14/8a/c16e4a8dae729b8115b4385f372890018f34473ad840b3b2d66b74576828/cryptocompare-0.7.5.tar.gz\n",
            "Requirement already satisfied: pandas>=0.25 in /usr/local/lib/python3.7/dist-packages (from pytrends) (1.1.5)\n",
            "Requirement already satisfied: lxml in /usr/local/lib/python3.7/dist-packages (from pytrends) (4.2.6)\n",
            "Requirement already satisfied: requests in /usr/local/lib/python3.7/dist-packages (from pytrends) (2.23.0)\n",
            "Requirement already satisfied: pytz>=2017.2 in /usr/local/lib/python3.7/dist-packages (from pandas>=0.25->pytrends) (2018.9)\n",
            "Requirement already satisfied: python-dateutil>=2.7.3 in /usr/local/lib/python3.7/dist-packages (from pandas>=0.25->pytrends) (2.8.1)\n",
            "Requirement already satisfied: numpy>=1.15.4 in /usr/local/lib/python3.7/dist-packages (from pandas>=0.25->pytrends) (1.19.5)\n",
            "Requirement already satisfied: idna<3,>=2.5 in /usr/local/lib/python3.7/dist-packages (from requests->pytrends) (2.10)\n",
            "Requirement already satisfied: certifi>=2017.4.17 in /usr/local/lib/python3.7/dist-packages (from requests->pytrends) (2020.12.5)\n",
            "Requirement already satisfied: chardet<4,>=3.0.2 in /usr/local/lib/python3.7/dist-packages (from requests->pytrends) (3.0.4)\n",
            "Requirement already satisfied: urllib3!=1.25.0,!=1.25.1,<1.26,>=1.21.1 in /usr/local/lib/python3.7/dist-packages (from requests->pytrends) (1.24.3)\n",
            "Requirement already satisfied: six>=1.5 in /usr/local/lib/python3.7/dist-packages (from python-dateutil>=2.7.3->pandas>=0.25->pytrends) (1.15.0)\n",
            "Building wheels for collected packages: cryptocompare\n",
            "  Building wheel for cryptocompare (setup.py) ... \u001b[?25l\u001b[?25hdone\n",
            "  Created wheel for cryptocompare: filename=cryptocompare-0.7.5-cp37-none-any.whl size=5063 sha256=fdfcd9b297ccd69a9c67905ff6a9a53009b8b046f947853e7cf6f207a5e8f882\n",
            "  Stored in directory: /root/.cache/pip/wheels/7b/99/20/41d3f0208616784be594768edd6b34610aa5035f41ce023fa6\n",
            "Successfully built cryptocompare\n",
            "Installing collected packages: pytrends, cryptocompare\n",
            "Successfully installed cryptocompare-0.7.5 pytrends-4.7.3\n"
          ],
          "name": "stdout"
        }
      ]
    },
    {
      "cell_type": "code",
      "metadata": {
        "id": "YDYDKx9WYbAC"
      },
      "source": [
        "import pandas as pd\n",
        "import matplotlib.pyplot as plt\n",
        "import datetime\n",
        "import re\n",
        "import time\n",
        "import os.path\n",
        "\n",
        "pd.set_option('display.max_rows', 9999)"
      ],
      "execution_count": null,
      "outputs": []
    },
    {
      "cell_type": "code",
      "metadata": {
        "colab": {
          "base_uri": "https://localhost:8080/"
        },
        "id": "1Rff4NFMn7dM",
        "outputId": "d9d1b394-38e4-4b83-f734-f7b3fcdf465d"
      },
      "source": [
        "from google.colab import drive\n",
        "drive.mount('/content/drive')\n",
        "path = '/content/drive/MyDrive/Colab Notebooks/cryptotrend'\n",
        "!ls"
      ],
      "execution_count": null,
      "outputs": [
        {
          "output_type": "stream",
          "text": [
            "Mounted at /content/drive\n",
            "drive  sample_data\n"
          ],
          "name": "stdout"
        }
      ]
    },
    {
      "cell_type": "markdown",
      "metadata": {
        "id": "gcgCBePUJplw"
      },
      "source": [
        "# Tools"
      ]
    },
    {
      "cell_type": "code",
      "metadata": {
        "id": "BI0R5ffAMnnS"
      },
      "source": [
        "from datetime import datetime, timedelta, date\n",
        "\n",
        "def split_date(bgn, end, max_day_delta):\n",
        "  split_bgn = re.split('-', bgn)\n",
        "  split_bgn = [ int(x) for x in split_bgn ]\n",
        "  d0 = date(split_bgn[0], split_bgn[1], split_bgn[2])\n",
        "\n",
        "  split_end = re.split('-', end)\n",
        "  split_end = [ int(x) for x in split_end ]\n",
        "  d1 = date(split_end[0], split_end[1], split_end[2])\n",
        "\n",
        "  delta = d1 - d0\n",
        "\n",
        "  dates = []\n",
        "  if delta.days >= max_day_delta:\n",
        "    while delta.days >= max_day_delta:\n",
        "      d0_delta = d0 + timedelta(days=max_day_delta-1)\n",
        "      dates.append((d0, d0_delta))\n",
        "      d0 = d0_delta\n",
        "      delta = d1 - d0\n",
        "  dates.append((d0, d1))\n",
        "  return dates\n",
        "\n",
        "#print(split_date('2021-01-30', '2021-02-03', 2))"
      ],
      "execution_count": null,
      "outputs": []
    },
    {
      "cell_type": "markdown",
      "metadata": {
        "id": "tr9LIofyKYgk"
      },
      "source": [
        "## [Crypt]"
      ]
    },
    {
      "cell_type": "code",
      "metadata": {
        "id": "6lIxqHKb1BGF"
      },
      "source": [
        "def calc_moyenne_crypto(crypto):\n",
        "  i = 0\n",
        "  lh1 = []\n",
        "  lh2 = []\n",
        "  lh3 = []\n",
        "  lh6 = []\n",
        "\n",
        "  for index, row in crypto.iterrows():\n",
        "\n",
        "      if i >= 1:\n",
        "        h1 = ((crypto['open'][i] - crypto['open'][i - 1])/crypto['open'][i - 1])*100\n",
        "      else: \n",
        "        h1 = 0\n",
        "      lh1.append(round(h1))\n",
        "\n",
        "      if i >= 2:\n",
        "        v1 = ((crypto['open'][i] - crypto['open'][i - 1])/crypto['open'][i - 1])*100\n",
        "        v2 = ((crypto['open'][i - 1] - crypto['open'][i - 2])/crypto['open'][i - 2])*100\n",
        "        h2 = (v1 + v2) / 2\n",
        "      else: \n",
        "        h2 = 0\n",
        "      lh2.append(round(h2))\n",
        "\n",
        "      if i >= 3:\n",
        "        v1 = ((crypto['open'][i] - crypto['open'][i - 1])/crypto['open'][i - 1])*100\n",
        "        v2 = ((crypto['open'][i - 1] - crypto['open'][i - 2])/crypto['open'][i - 2])*100\n",
        "        v3 = ((crypto['open'][i - 2] - crypto['open'][i - 3])/crypto['open'][i - 3])*100\n",
        "        h3 = (v1 + v2 + v3) / 3\n",
        "      else: \n",
        "        h3 = 0\n",
        "      lh3.append(round(h3))\n",
        "      \n",
        "      if i >= 6:\n",
        "        v1 = ((crypto['open'][i] - crypto['open'][i - 1])/crypto['open'][i - 1])*100\n",
        "        v2 = ((crypto['open'][i - 1] - crypto['open'][i - 2])/crypto['open'][i - 2])*100\n",
        "        v3 = ((crypto['open'][i - 2] - crypto['open'][i - 3])/crypto['open'][i - 3])*100\n",
        "        v4 = ((crypto['open'][i - 3] - crypto['open'][i - 4])/crypto['open'][i - 4])*100\n",
        "        v5 = ((crypto['open'][i - 4] - crypto['open'][i - 5])/crypto['open'][i - 5])*100\n",
        "        v6 = ((crypto['open'][i - 5] - crypto['open'][i - 6])/crypto['open'][i - 6])*100\n",
        "        h6 = (v1 + v2 + v3 + v4 + v5 + v6) / 6\n",
        "      else: \n",
        "        h6 = 0\n",
        "      lh6.append(round(h6))\n",
        "\n",
        "      i += 1\n",
        "\n",
        "  crypto['h1'] = pd.Series(lh1, index=crypto.index)\n",
        "  crypto['h2'] = pd.Series(lh2, index=crypto.index)\n",
        "  crypto['h3'] = pd.Series(lh3, index=crypto.index)\n",
        "  crypto['h6'] = pd.Series(lh6, index=crypto.index)\n",
        "\n",
        "  return crypto"
      ],
      "execution_count": null,
      "outputs": []
    },
    {
      "cell_type": "code",
      "metadata": {
        "id": "-moh9QqgutMf"
      },
      "source": [
        "import cryptocompare\n",
        "\n",
        "def get_crypto(d0, d1, cur1, cur2):\n",
        "  dates = split_date(d0, d1, 30*2) #l'API repond que sur des tranches de 3 mois\n",
        "  pd_crypto = []\n",
        "  for date in dates:\n",
        "    bgn, end = date\n",
        "    delta = end - bgn\n",
        "    if os.path.isfile(f'{path}/crypto/{cur1}-{cur2}_{bgn}_{end}'):\n",
        "      crypto = pd.read_csv(f'{path}/crypto/{cur1}-{cur2}_{bgn}_{end}')\n",
        "    else:\n",
        "      print('Get API crypto')\n",
        "      crypto = cryptocompare.get_historical_price_hour(cur1, currency=cur2, limit=24*delta.days, toTs=end)\n",
        "      crypto = pd.DataFrame(crypto)\n",
        "      crypto.to_csv(f'{path}/crypto/{cur1}-{cur2}_{bgn}_{end}') \n",
        "    if len(pd_crypto) > 0: #ur de la premier ligne qui est deja dans la deriner pd\n",
        "      crypto = crypto.drop(0)\n",
        "    pd_crypto.append(crypto)\n",
        "  \n",
        "  crypto = pd.concat(pd_crypto).reset_index()\n",
        "  crypto['time'] = pd.to_datetime(crypto['time'], unit='s')\n",
        "  crypto = calc_moyenne_crypto(crypto)\n",
        "\n",
        "  return crypto\n",
        "  #print(crypto)\n",
        "\n",
        "  #plt.figure(figsize=(15, 6))\n",
        "  #plt.plot(crypto['time'],crypto['close'])\n",
        "\n",
        "\n",
        "# bgn = '2021-02-01'\n",
        "# end = '2021-03-01'\n",
        "# currency = 'XRP'\n",
        "# base_currency = 'EUR'\n",
        "# crypto = get_crypto(bgn, end, currency, base_currency)\n"
      ],
      "execution_count": null,
      "outputs": []
    },
    {
      "cell_type": "markdown",
      "metadata": {
        "id": "lXIXuR_wKbzP"
      },
      "source": [
        "## [Trend]"
      ]
    },
    {
      "cell_type": "markdown",
      "metadata": {
        "id": "UNdEVgMwKDBV"
      },
      "source": [
        "### tools calc_moyenne_trend"
      ]
    },
    {
      "cell_type": "code",
      "metadata": {
        "id": "CmiW1j5K3vUt"
      },
      "source": [
        "def calc_moyenne_trend(trend, curr):\n",
        "  i = 0\n",
        "  lh1 = []\n",
        "  lh2 = []\n",
        "  lh3 = []\n",
        "  lh6 = []\n",
        "  lh9 = []\n",
        "  lh12 = []\n",
        "\n",
        "  for index, row in trend.iterrows():\n",
        "      if i >= 1:\n",
        "        h1 = trend[curr][i] - trend[curr][i - 1]\n",
        "      else: \n",
        "        h1 = 0\n",
        "      lh1.append(round(h1))\n",
        "\n",
        "      if i >= 2:\n",
        "        v1 = trend[curr][i] - trend[curr][i - 1]\n",
        "        v2 = trend[curr][i - 1] - trend[curr][i - 2]\n",
        "        h2 = (v1 + v2) / 2\n",
        "      else: \n",
        "        h2 = 0\n",
        "      lh2.append(round(h2))\n",
        "\n",
        "      if i >= 3:\n",
        "        v1 = trend[curr][i] - trend[curr][i - 1]\n",
        "        v2 = trend[curr][i - 1] - trend[curr][i - 2]\n",
        "        v3 = trend[curr][i - 2] - trend[curr][i - 3]\n",
        "        h3 = (v1 + v2 + v3) / 3\n",
        "      else: \n",
        "        h3 = 0\n",
        "      lh3.append(round(h3))\n",
        "      \n",
        "      if i >= 6:\n",
        "        v1 = trend[curr][i] - trend[curr][i - 1]\n",
        "        v2 = trend[curr][i - 1] - trend[curr][i - 2]\n",
        "        v3 = trend[curr][i - 2] - trend[curr][i - 3]\n",
        "        v4 = trend[curr][i - 3] - trend[curr][i - 4]\n",
        "        v5 = trend[curr][i - 4] - trend[curr][i - 5]\n",
        "        v6 = trend[curr][i - 5] - trend[curr][i - 6]\n",
        "        h6 = (v1 + v2 + v3 + v4 + v5 + v6) / 6\n",
        "      else: \n",
        "        h6 = 0\n",
        "      lh6.append(round(h6))\n",
        "\n",
        "      if i >= 9:\n",
        "        v1 = trend[curr][i] - trend[curr][i - 1]\n",
        "        v2 = trend[curr][i - 1] - trend[curr][i - 2]\n",
        "        v3 = trend[curr][i - 2] - trend[curr][i - 3]\n",
        "        v4 = trend[curr][i - 3] - trend[curr][i - 4]\n",
        "        v5 = trend[curr][i - 4] - trend[curr][i - 5]\n",
        "        v6 = trend[curr][i - 5] - trend[curr][i - 6]\n",
        "        v7 = trend[curr][i - 6] - trend[curr][i - 7]\n",
        "        v8 = trend[curr][i - 7] - trend[curr][i - 8]\n",
        "        v9 = trend[curr][i - 8] - trend[curr][i - 9]\n",
        "        h9 = (v1 + v2 + v3 + v4 + v5 + v6 + v7 + v8 + v9) / 9\n",
        "      else: \n",
        "        h9 = 0\n",
        "      lh9.append(round(h9))\n",
        "\n",
        "      if i >= 12:\n",
        "        v1 = trend[curr][i] - trend[curr][i - 1]\n",
        "        v2 = trend[curr][i - 1] - trend[curr][i - 2]\n",
        "        v3 = trend[curr][i - 2] - trend[curr][i - 3]\n",
        "        v4 = trend[curr][i - 3] - trend[curr][i - 4]\n",
        "        v5 = trend[curr][i - 4] - trend[curr][i - 5]\n",
        "        v6 = trend[curr][i - 5] - trend[curr][i - 6]\n",
        "        v7 = trend[curr][i - 6] - trend[curr][i - 7]\n",
        "        v8 = trend[curr][i - 7] - trend[curr][i - 8]\n",
        "        v9 = trend[curr][i - 8] - trend[curr][i - 9]\n",
        "        v10 = trend[curr][i - 9] - trend[curr][i - 10]\n",
        "        v11 = trend[curr][i - 10] - trend[curr][i - 11]\n",
        "        v12 = trend[curr][i - 11] - trend[curr][i - 12]\n",
        "        h12 = (v1 + v2 + v3 + v4 + v5 + v6) / 12\n",
        "      else: \n",
        "        h12 = 0\n",
        "      lh12.append(round(h12))\n",
        "\n",
        "      i += 1\n",
        "  trend['h1'] = pd.Series(lh1, index=trend.index)\n",
        "  trend['h2'] = pd.Series(lh2, index=trend.index)\n",
        "  trend['h3'] = pd.Series(lh3, index=trend.index)\n",
        "  trend['h6'] = pd.Series(lh6, index=trend.index)\n",
        "  trend['h9'] = pd.Series(lh9, index=trend.index)\n",
        "  trend['h12'] = pd.Series(lh12, index=trend.index)\n",
        "\n",
        "  return trend"
      ],
      "execution_count": null,
      "outputs": []
    },
    {
      "cell_type": "markdown",
      "metadata": {
        "id": "WK0oGGYLMBN9"
      },
      "source": [
        "### get  Google trend"
      ]
    },
    {
      "cell_type": "code",
      "metadata": {
        "id": "nWUadUrM-j6j"
      },
      "source": [
        "def construct_empty_data(d0, d1, words): #because API can be down\n",
        "  print(f'Google API down for {d0} and {d1} for {words}')\n",
        "  empty_df = pd.date_range(start=d0, end=d1, freq='1H')\n",
        "  df = pd.DataFrame(empty_df, columns=['date'])\n",
        "  df.set_index('date', inplace=True)\n",
        "  df[words] = 0\n",
        "  df['h1'] = 0\n",
        "  df['h2'] = 0\n",
        "  df['h3'] = 0\n",
        "  df['h6'] = 0\n",
        "  df['h9'] = 0\n",
        "  df['h12'] = 0\n",
        "  return df\n"
      ],
      "execution_count": null,
      "outputs": []
    },
    {
      "cell_type": "code",
      "metadata": {
        "id": "56zFEOEeaV3t"
      },
      "source": [
        "from pytrends.request import TrendReq\n",
        "pytrends = TrendReq()\n",
        "\n",
        "def get_trend(bgn, end, trend_words):\n",
        "  kw_list = [trend_words]\n",
        "\n",
        "  dates = split_date(bgn, end, 7) #l'API repond que sur des tranches de 8 jours\n",
        "  pd_trend = []\n",
        "  for date in dates:\n",
        "    bgn, end = date\n",
        "    if (end - bgn).days < 3: #Pour etre sur d'avoir les trend en heure et pas minute\n",
        "      tframe = bgn.strftime(\"%Y-%m-%dT00\")+(end + timedelta(days=2)).strftime(\" %Y-%m-%dT00\")\n",
        "    else:\n",
        "      tframe = bgn.strftime(\"%Y-%m-%dT00\")+end.strftime(\" %Y-%m-%dT00\")\n",
        "    if os.path.isfile(f'{path}/trend/{trend_words}_{bgn}_{end}'):\n",
        "      trend = pd.read_csv(f'{path}/trend/{trend_words}_{bgn}_{end}', index_col='date', parse_dates=True)\n",
        "    else:\n",
        "      print(f'Get API trend: {trend_words}_{bgn}_{end}')\n",
        "      pytrends.build_payload(kw_list, cat=0, timeframe=tframe, geo='', gprop='')\n",
        "      if len(pytrends.interest_over_time()) == 0:\n",
        "        trend = construct_empty_data(bgn, end, trend_words)\n",
        "      else:\n",
        "        trend = pytrends.interest_over_time().drop(columns=['isPartial'])\n",
        "      trend.to_csv(f'{path}/trend/{trend_words}_{bgn}_{end}') \n",
        "    \n",
        "    if (end - bgn).days < 3:\n",
        "      jump_first = True #del les days extra d'une maniere non classe\n",
        "      for index, row in trend.iterrows():\n",
        "        if index >= end and jump_first == False:\n",
        "          trend = trend.drop(index)\n",
        "        elif index >= end and jump_first == True:\n",
        "          jump_first = False\n",
        "    if len(pd_trend) > 0: #doublon de miniuit\n",
        "      trend = trend.iloc[1:]\n",
        "    pd_trend.append(trend)\n",
        "  trend = pd.concat(pd_trend)\n",
        "  trend = calc_moyenne_trend(trend, trend_words)\n",
        "  return trend\n",
        "\n",
        "#plt.figure(figsize=(15, 6))\n",
        "#plt.plot(trend.index,trend[var1])\n",
        "#XRP coin_2020-03-01_2020-03-07\n",
        "# bgn = '2020-03-12' #<3 jours au quart d'heure pres, >3 <8 heure\n",
        "# end = '2020-03-17'\n",
        "# get_trend(bgn, end, 'XRP coin')"
      ],
      "execution_count": null,
      "outputs": []
    },
    {
      "cell_type": "markdown",
      "metadata": {
        "id": "5BYT2FHJwJUt"
      },
      "source": [
        "## [Arbitre]"
      ]
    },
    {
      "cell_type": "code",
      "metadata": {
        "id": "mVMukNXgxO5C"
      },
      "source": [
        "import sys\n",
        "\n",
        "class colors:\n",
        "    BLACK = '\\033[30m'\n",
        "    RED = '\\033[31m'\n",
        "    GREEN = '\\033[32m'\n",
        "    YELLOW = '\\033[33m'\n",
        "    BLUE = '\\033[34m'\n",
        "    MAGENTA = '\\033[35m'\n",
        "\n",
        "\n",
        "  \n",
        "  #trend_h2 = [(5, 15), (0, 5), (0, 5), (0, 5), (0, 5)]\n",
        "  #trend_h1 = [(5, 15), (0, 5), (0, 5), (0, 5), (0, 5)]\n",
        "  # for trend_h in [trend_h1, trend_h2, trend_h3]\n",
        "  #   for th in range(5, 15):\n",
        "  #     trend_h[0] = th\n",
        "  #     arbitrage\n",
        "      # for ch1 in range(0, 5):\n",
        "      #   trend_h[1] = ch1\n",
        "        # for ch2 in range(0, 5):\n",
        "        #   trend_h[2] = ch2\n",
        "        #   for ch3 in range(0, 5):\n",
        "        #     trend_h[3] = ch3\n",
        "        #     for ch4 in range(0, 5):\n",
        "        #       trend_h[4] = ch4\n",
        "\n",
        "\n",
        "def arbitrage(debug, whistle):\n",
        "  if len(trend) !=  len(crypto):\n",
        "    print('Taille trend et crypto different')\n",
        "    sys.exit()\n",
        "\n",
        "  place_order = False\n",
        "  top_value = 0\n",
        "  low_value = 9999999\n",
        "  place_value = 0\n",
        "  order = []\n",
        "  gain = []\n",
        "\n",
        "  i = 0\n",
        "  for index, row in trend.iterrows():\n",
        "    if crypto['open'][i] > top_value:\n",
        "      top_value = crypto['open'][i]\n",
        "    if  i > 1 and crypto['open'][i - 1] < low_value and crypto['open'][i] > crypto['open'][i - 1]:\n",
        "      low_value = crypto['open'][i - 1]\n",
        "          \n",
        "    if place_order == False:\n",
        "      if (\n",
        "          (trend['h3'][i] >= whistle[0][0] and\n",
        "           crypto['h1'][i] >= whistle[0][1] and\n",
        "           crypto['h2'][i] >= whistle[0][2] and\n",
        "           crypto['h3'][i] >= whistle[0][3]) or\n",
        "          #crypto['h6'][i] >= whistle[0][4])\n",
        "          (trend['h2'][i] >= whistle[1][0] and\n",
        "           crypto['h1'][i] >= whistle[1][1] and\n",
        "           crypto['h2'][i] >= whistle[1][2] and\n",
        "           crypto['h3'][i] >= whistle[1][3]) or\n",
        "          #  crypto['h6'][i] >= whistle[1][4]) or\n",
        "          (trend['h1'][i] >= whistle[2][0] and\n",
        "           crypto['h1'][i] >= whistle[2][1] and\n",
        "           crypto['h2'][i] >= whistle[2][1] and\n",
        "           crypto['h3'][i] >= whistle[2][1])\n",
        "          #  crypto['h6'][i] >= whistle[2][1])\n",
        "        ):\n",
        "        place_order = True\n",
        "        place_value = crypto['open'][i]\n",
        "        order_place = trend.index[i]\n",
        "        top_value = crypto['open'][i]\n",
        "\n",
        "\n",
        "    if place_order == True:\n",
        "      diff_top = ((crypto['open'][i] - top_value) / top_value) * 100\n",
        "      if debug == True:\n",
        "        print(f\"[{index}]top_value: {top_value} value actuel: {crypto['open'][i]} diff_prctg: {diff_top}\")\n",
        "      if (\n",
        "          diff_top < -5 or #si on perd 7% de la top value\n",
        "          crypto['open'][i] < place_value or # si on arrive en dessous de la valeur de depart\n",
        "          i + 1 == len(trend) #la fin du graphe\n",
        "          ):\n",
        "        place_order = False\n",
        "        order.append((order_place, trend.index[i]))\n",
        "        gain.append(((crypto['open'][i] - place_value) / place_value) * 100)\n",
        "\n",
        "    if debug == True:\n",
        "      color = colors.GREEN if place_order == True else colors.RED\n",
        "      print(f\"{color}t_h1:{trend['h1'][i]} t_h2:{trend['h2'][i]} \" \\\n",
        "            f\"t_h3:{trend['h3'][i]} t_h6:{trend['h6'][i]} t_h9:{trend['h9'][i]}\" \\\n",
        "            f\" --- c_h1:{crypto['h1'][i]} c_h2:{crypto['h2'][i]} c_h3:{crypto['h3'][i]}\"\n",
        "            f\" c_h6:{crypto['h6'][i]}\")\n",
        "\n",
        "    i += 1\n",
        "  potentiel_gain = ((top_value - low_value) / low_value) * 100\n",
        "  #print(f'potentiel gain:{potentiel_gain} avec low {low_value} et top {top_value}')\n",
        "  return gain, order\n",
        "\n",
        "\n",
        "def round_all_value_line(start_5min, whistle, line, tot_gain):\n",
        "  for t_hline in range(0, 16):\n",
        "    #print(f'{t_hline} for {line}')\n",
        "    whistle[line][0] = t_hline\n",
        "    for c_h1 in range(0, 6):\n",
        "      whistle[line][1] = c_h1\n",
        "      for c_h2 in range(0, 6):\n",
        "        whistle[line][2] = c_h2\n",
        "        gain, order = arbitrage(False, whistle)\n",
        "        #print(len(gain))\n",
        "        #print(gain)\n",
        "        #print(sum(gain))\n",
        "        check_5min = datetime.now().replace(microsecond=0)\n",
        "        if check_5min - start_5min > timedelta(seconds=10):\n",
        "          print(f'10sec : {time.strftime(\"%d/%m/%Y-%H:%M\")} {whistle}')\n",
        "          start_5min = datetime.now().replace(microsecond=0)\n",
        "        if sum(gain) > tot_gain:\n",
        "          tot_gain = sum(gain)\n",
        "          print(f'New optimized gain:{tot_gain} with {len(gain)} temptation')\n",
        "          print(f'{time.strftime(\"%d/%m/%Y-%H:%M\")} {whistle}')\n",
        "        if line + 1 < len(whistle):\n",
        "          round_all_value_line(start_5min, whistle, line + 1, tot_gain)\n",
        "\n",
        "def smart_arbitre():\n",
        "  start_5min = datetime.now().replace(microsecond=0)\n",
        "\n",
        "  #print(trend)\n",
        "  #print(crypto)\n",
        "  whistle = [[0, 0, 0, 0, 0],\n",
        "             [0, 0, 0, 0, 0],\n",
        "             [0, 0, 0, 0, 0]]\n",
        "  round_all_value_line(start_5min, whistle, 0, 0)\n",
        "\n"
      ],
      "execution_count": null,
      "outputs": []
    },
    {
      "cell_type": "markdown",
      "metadata": {
        "id": "G9GhkHiEsBUf"
      },
      "source": [
        "## [Plot]"
      ]
    },
    {
      "cell_type": "code",
      "metadata": {
        "id": "6Wbj-i_VsFIo"
      },
      "source": [
        "def plot_crypto_vs_trend(pd_trend, pd_crypto, currency, trend_words, order):\n",
        "  fig,ax = plt.subplots(figsize=(25, 6))\n",
        "\n",
        "  ax.plot(pd_trend.index, pd_trend[trend_words], color=\"magenta\", marker=\"o\")\n",
        "  #ax.plot(trend.index, trend[currency], color=\"magenta\", marker=\"o\")\n",
        "  ax.set_xlabel(\"time\", fontsize=14)\n",
        "  ax.set_ylabel(\"Gtrend: \"+trend_words, color=\"magenta\", fontsize=14)\n",
        "\n",
        "  ax2=ax.twinx()\n",
        "  ax2.plot(pd_crypto.time, pd_crypto[\"open\"], color=\"blue\", marker=\"o\")\n",
        "  ax2.set_ylabel(currency, color=\"blue\", fontsize=14)\n",
        "\n",
        "\n",
        "  #ax.axvspan(8, 14, alpha=0.5, color='red')\n",
        "  for x_plc, x_rvk in order:\n",
        "     ax.axvline(x=x_plc, color='green', linestyle='--', lw=1)\n",
        "     ax.axvline(x=x_rvk, color='red', linestyle='--', lw=1)\n",
        "     ax.axvspan(x_plc, x_rvk, alpha=0.5, color='green')\n",
        "\n",
        "  # for xc in rvk_plot:\n",
        "  #    ax.axvline(x=xc, color='red', linestyle='--', lw=1)\n",
        "\n",
        "  return plt"
      ],
      "execution_count": null,
      "outputs": []
    },
    {
      "cell_type": "markdown",
      "metadata": {
        "id": "-Q3KWPyZKnUF"
      },
      "source": [
        "# script"
      ]
    },
    {
      "cell_type": "markdown",
      "metadata": {
        "id": "kDy1zO1DzE9A"
      },
      "source": [
        ""
      ]
    },
    {
      "cell_type": "code",
      "metadata": {
        "id": "xKvbSHxRaQFt"
      },
      "source": [
        "def stat(gain, order):\n",
        "  prctg_pos = round(sum(x > 0 for x in gain) * 100 / len(gain), 1)\n",
        "  period_h = 0\n",
        "  tot_period_order = 0\n",
        "  first_order = 0\n",
        "  for time_order in order:\n",
        "    bgn, end = time_order\n",
        "    if first_order == 0:\n",
        "      first_order = bgn\n",
        "    period_h = int((end - bgn).total_seconds())\n",
        "    tot_period_order += period_h\n",
        "  prtcg_tps_in_order = round((tot_period_order * 100) / (end - first_order).total_seconds(), 1)\n",
        "  print(f'{round(sum(gain), 1)}% d\\'€ avec {len(gain)} order [{prctg_pos}% +][{prtcg_tps_in_order}% occupy]\\n{gain}')"
      ],
      "execution_count": null,
      "outputs": []
    },
    {
      "cell_type": "code",
      "metadata": {
        "id": "Jg0hszpCzI4U"
      },
      "source": [
        "trend_words = 'XRP coin'\n",
        "currency = 'XRP'\n",
        "base_currency = 'EUR'\n",
        "#Calme plat\n",
        "bgn = '2018-08-01'\n",
        "end = '2020-11-01'\n",
        "#pic et chute XRP\n",
        "bgn = '2017-12-01'\n",
        "end = '2018-04-01'"
      ],
      "execution_count": null,
      "outputs": []
    },
    {
      "cell_type": "code",
      "metadata": {
        "colab": {
          "base_uri": "https://localhost:8080/",
          "height": 552
        },
        "id": "MMWlypo-Rsa7",
        "outputId": "73703e1c-7a3f-4c44-c560-0374bde18d21"
      },
      "source": [
        "#XRP coin\n",
        "#FTM coin\n",
        "#ADA coin\n",
        "#EOS coin\n",
        "#DOGE coin\n",
        "\n",
        "trend_words = 'XRP'# token'\n",
        "currency = 'XRP'\n",
        "base_currency = 'EUR'\n",
        "\n",
        "\n",
        "bgn = '2020-11-22'\n",
        "end = '2020-12-01'\n",
        "\n",
        "\n",
        "crypto = get_crypto(bgn, end, currency, base_currency)\n",
        "#print(crypto)\n",
        "trend = get_trend(bgn, end, trend_words)\n",
        "\n",
        "#print(trend)\n",
        "whistle = [[3, 0, -1, -1, 0], [3, 0, -2, -1, 0], [3, -2, -2, 0, 0]]\n",
        "gain, order = arbitrage(False, whistle)\n",
        "stat(gain, order)\n",
        "\n",
        "whistle = [[4, 0, 3, 0, 0], [10, 1, 3, 1, 0], [9, 1, 3, 1, 0]]\n",
        "#whistle = [[4, 0, 0, 1, 0], [10, 1, 3, 1, 0], [9, 1, 3, 1, 0]]\n",
        "gain, order = arbitrage(False, whistle)\n",
        "stat(gain, order)\n",
        "#smart_arbitre()\n",
        "\n",
        "\n",
        "plot_crypto_vs_trend(trend, crypto, currency, trend_words, order)\n"
      ],
      "execution_count": null,
      "outputs": [
        {
          "output_type": "stream",
          "text": [
            "Get API crypto\n",
            "Get API trend: XRP_2020-11-22_2020-11-28\n",
            "Get API trend: XRP_2020-11-28_2020-12-01\n",
            "31.3% d'€ avec 11 order [27.3% +][37.8% occupy]\n",
            "[-0.7086813464945646, 38.91298800714467, -2.5457030582607247, -1.8308631211857131, -8.791843016544828, -1.0631644777986227, 1.8378599142331944, -0.4682013265704171, -2.377730523873957, -2.032359905288088, 10.340027838536475]\n",
            "25.3% d'€ avec 5 order [40.0% +][22.8% occupy]\n",
            "[27.883486023020897, -2.5457030582607247, -1.0631644777986227, 1.8378599142331944, -0.7654966392830458]\n"
          ],
          "name": "stdout"
        },
        {
          "output_type": "execute_result",
          "data": {
            "text/plain": [
              "<module 'matplotlib.pyplot' from '/usr/local/lib/python3.7/dist-packages/matplotlib/pyplot.py'>"
            ]
          },
          "metadata": {
            "tags": []
          },
          "execution_count": 16
        },
        {
          "output_type": "display_data",
          "data": {
            "image/png": "[encoded data removed]",
            "text/plain": [
              "<Figure size 1800x432 with 2 Axes>"
            ]
          },
          "metadata": {
            "tags": [],
            "needs_background": "light"
          }
        }
      ]
    }
  ]
}